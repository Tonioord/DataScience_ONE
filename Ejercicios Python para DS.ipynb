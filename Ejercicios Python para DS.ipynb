{
 "cells": [
  {
   "cell_type": "code",
   "execution_count": 1,
   "id": "a4515d6e",
   "metadata": {},
   "outputs": [
    {
     "name": "stdout",
     "output_type": "stream",
     "text": [
      "La lista tiene 17 números, donde el mayor es 99 y el menor es 11. La suma de los valores es 743.\n"
     ]
    }
   ],
   "source": [
    "#Escribe un código que lee la lista siguiente y realiza:\n",
    "\n",
    "lista = [16, 14, 63, 65, 17, 99, 70, 11, 20, 48, 79, 32, 17, 89, 12, 25, 66]\n",
    "# 1. Leer el tamaño de la lista\n",
    "# 2. Leer el valor máximo y mínimo\n",
    "# 3. Calcular la suma de los valores de la lista\n",
    "# 4. Mostrar un mensaje al final: La lista tiene `tamano` números, donde el mayor \n",
    "# es `mayor` y el menor es `menor`. La suma de los valores es `suma`.\n",
    "\n",
    "tamano = len(lista)\n",
    "mayor = max(lista)\n",
    "menor = min(lista)\n",
    "suma = sum(lista)\n",
    "print(f\"La lista tiene {tamano} números, donde el mayor es {mayor} y el menor es {menor}. La suma de los valores es {suma}.\")"
   ]
  },
  {
   "cell_type": "code",
   "execution_count": null,
   "id": "f088a3a8",
   "metadata": {},
   "outputs": [
    {
     "name": "stdout",
     "output_type": "stream",
     "text": [
      "8 x 1 = 8\n",
      "8 x 2 = 16\n",
      "8 x 3 = 24\n",
      "8 x 4 = 32\n",
      "8 x 5 = 40\n",
      "8 x 6 = 48\n",
      "8 x 7 = 56\n",
      "8 x 8 = 64\n",
      "8 x 9 = 72\n",
      "8 x 10 = 80\n"
     ]
    }
   ],
   "source": [
    "# Escribe una función que genere la tabla de multiplicar de un número entero del 1 al 10, según la elección del usuario. Como ejemplo, para el número 7, la tabla de multiplicar se debe mostrar en el siguiente formato:\n",
    "def tabla_multiplicar(numero):\n",
    "    for i in range(1, 11):\n",
    "        resultado = numero * i\n",
    "        print(f\"{numero} x {i} = {resultado}\")\n",
    "numero_usuario = int(input(\"Ingrese un número entero para generar su tabla de multiplicar: \"))\n",
    "tabla_multiplicar(numero_usuario)"
   ]
  },
  {
   "cell_type": "code",
   "execution_count": 7,
   "id": "bde60d9b",
   "metadata": {},
   "outputs": [
    {
     "data": {
      "text/plain": [
       "[24, 99]"
      ]
     },
     "execution_count": 7,
     "metadata": {},
     "output_type": "execute_result"
    }
   ],
   "source": [
    "#Crea una función que lea la siguiente lista y devuelva una nueva lista con los múltiplos de 3:\n",
    "\n",
    "num=[97, 80, 94, 88, 80, 1, 16, 53, 62, 32, 24, 99]\n",
    "\n",
    "def multiplos_de_tres(lista):\n",
    "    nueva_lista = []\n",
    "    for numero in lista:\n",
    "        if numero % 3 == 0:\n",
    "            nueva_lista.append(numero)\n",
    "    return nueva_lista\n",
    "\n",
    "multiplos_de_tres(num)"
   ]
  },
  {
   "cell_type": "code",
   "execution_count": 10,
   "id": "a2a2ad2c",
   "metadata": {},
   "outputs": [
    {
     "name": "stdout",
     "output_type": "stream",
     "text": [
      "[1, 4, 9, 16, 25, 36, 49, 64, 81, 100]\n"
     ]
    }
   ],
   "source": [
    "#Crea una lista de los cuadrados de los números de la siguiente lista [1, 2, 3, 4, 5, 6, 7, 8, 9, 10]. Recuerda utilizar las funciones lambda y map() para calcular el cuadrado de cada elemento de la lista.\n",
    "\n",
    "numeros = [1, 2, 3, 4, 5, 6, 7, 8, 9, 10]\n",
    "cuadrados = list(map(lambda x: x**2, numeros))\n",
    "print(cuadrados)"
   ]
  },
  {
   "cell_type": "code",
   "execution_count": 11,
   "id": "c3101647",
   "metadata": {},
   "outputs": [
    {
     "data": {
      "text/plain": [
       "[4.0, 5.0, 6.0, 7.0, 8.0]"
      ]
     },
     "execution_count": 11,
     "metadata": {},
     "output_type": "execute_result"
    }
   ],
   "source": [
    "#Has sido contratado como científico(a) de datos de una asociación de skate. Para analizar las notas recibidas por los skaters en algunas competiciones a lo largo del año, necesitas crear un código que calcule la puntuación de los atletas. Para ello, tu código debe recibir 5 notas ingresadas por los jueces.\n",
    "notas = []\n",
    "for i in range(5):\n",
    "    nota = float(input(f\"Ingrese la nota {i+1}: \"))\n",
    "    notas.append(nota)\n",
    "notas"
   ]
  },
  {
   "cell_type": "code",
   "execution_count": 14,
   "id": "fe068178",
   "metadata": {},
   "outputs": [
    {
     "name": "stdout",
     "output_type": "stream",
     "text": [
      "El estudiante obtuvo una media de 6.5, con la mayor nota de 10.0 puntos y la menor nota de 1.0 puntos y fue Aprobado(a)\n"
     ]
    }
   ],
   "source": [
    "\"\"\"Para cumplir con una demanda de una institución educativa para el análisis del rendimiento de sus estudiantes, necesitas crear una función que reciba una lista de 4 notas y devuelva:\n",
    "\n",
    "# mayor nota\n",
    "# menor nota\n",
    "# media\n",
    "# situación (Aprobado(a) o Reprobado(a))\n",
    "# Uso de la función\n",
    "# Mostrar: El estudiante obtuvo una media de `media`, con la mayor nota de `mayor` puntos y la menor nota de `menor` puntos y fue `situacion`.)\n",
    "\n",
    "\"\"\"\n",
    "\n",
    "notas = []\n",
    "def analizar_notas(notas):\n",
    "    for i in range(4):\n",
    "        nota = float(input(f\"Ingrese la nota {i+1}: \"))\n",
    "        notas.append(nota)\n",
    "    notas\n",
    "    mayor = max(notas)\n",
    "    menor = min(notas)\n",
    "    media = sum(notas) / len(notas)\n",
    "    situacion = \"Aprobado(a)\" if media >= 6.0 else \"Reprobado(a)\"\n",
    "    return mayor, menor, media, situacion\n",
    "mayor, menor, media, situacion = analizar_notas(notas)\n",
    "print(f'El estudiante obtuvo una media de {media}, con la mayor nota de {mayor} puntos y la menor nota de {menor} puntos y fue {situacion}')\n",
    "\n"
   ]
  },
  {
   "cell_type": "code",
   "execution_count": 15,
   "id": "6e552cab",
   "metadata": {},
   "outputs": [
    {
     "data": {
      "text/plain": [
       "['Juan Silva', 'Maria Sosa', 'José Tavares']"
      ]
     },
     "execution_count": 15,
     "metadata": {},
     "output_type": "execute_result"
    }
   ],
   "source": [
    "\"\"\"Has recibido una demanda para tratar 2 listas con los nombres y apellidos de cada estudiante concatenándolos para presentar sus nombres completos en la forma Nombre Apellido. Las listas son:\n",
    "\n",
    "nombres = [\"juan\", \"MaRia\", \"JOSÉ\"]\n",
    "apellidos = [\"SILVA\", \"sosa\", \"Tavares\"]\n",
    "\n",
    "# Normalizar nombres y apellidos y crear una nueva lista con los nombres completos\n",
    "# Puedes apoyarte en la función map()\n",
    "\n",
    "\"\"\"\n",
    "nombres = [\"juan\", \"MaRia\", \"JOSÉ\"]\n",
    "apellidos = [\"SILVA\", \"sosa\", \"Tavares\"]\n",
    "\n",
    "def nalumn(nombres, apellidos):\n",
    "    nombres_normalizados = list(map(lambda x: x.capitalize(), nombres))\n",
    "    apellidos_normalizados = list(map(lambda x: x.capitalize(), apellidos))\n",
    "    nombres_completos = [f\"{n} {a}\" for n, a in zip(nombres_normalizados, apellidos_normalizados)]\n",
    "    return nombres_completos\n",
    "nalumn(nombres, apellidos)"
   ]
  },
  {
   "cell_type": "code",
   "execution_count": 16,
   "id": "17623d91",
   "metadata": {},
   "outputs": [
    {
     "name": "stdout",
     "output_type": "stream",
     "text": [
      "La puntuación del equipo fue 7 y su rendimiento fue 46.666666666666664%\n"
     ]
    }
   ],
   "source": [
    "\"\"\"\n",
    "Como científico de datos en un equipo de fútbol, necesitas implementar nuevas formas de recopilación de datos sobre el rendimiento de los jugadores y del equipo en su conjunto. Tu primera acción es crear una forma de calcular la puntuación del equipo en el campeonato nacional a partir de los datos de goles marcados y recibidos en cada juego.\n",
    "\n",
    "Escribe una función llamada calcula_puntos() que recibe como parámetros dos listas de números enteros, representando los goles marcados y recibidos por el equipo en cada partido del campeonato. La función debe devolver la puntuación del equipo y el rendimiento en porcentaje, teniendo en cuenta que la victoria vale 3 puntos, el empate 1 punto y la derrota 0 puntos.\n",
    "\n",
    "Nota: si la cantidad de goles marcados en un partido es mayor que los recibidos, el equipo ganó. En caso de ser igual, el equipo empató, y si es menor, el equipo perdió. Para calcular el rendimiento, debemos hacer la razón entre la puntuación del equipo y la puntuación máxima que podría recibir.\n",
    "\n",
    "Para la prueba, utiliza las siguientes listas de goles marcados y recibidos:\n",
    "\n",
    "goles_marcados = [2, 1, 3, 1, 0]\n",
    "goles_recibidos = [1, 2, 2, 1, 3]\n",
    "# Texto probablemente mostrado:\n",
    "# La puntuación del equipo fue `puntos` y su rendimiento fue `desempeno`%\"\n",
    "\"\"\"\n",
    "goles_marcados = [2, 1, 3, 1, 0]\n",
    "goles_recibidos = [1, 2, 2, 1, 3]\n",
    "\n",
    "def calcula_puntos(marcados, recibidos):\n",
    "    puntos = 0\n",
    "    for g_marcados, g_recibidos in zip(marcados, recibidos):\n",
    "        if g_marcados > g_recibidos:\n",
    "            puntos += 3\n",
    "        elif g_marcados == g_recibidos:\n",
    "            puntos += 1\n",
    "    puntos_maximos = len(marcados) * 3\n",
    "    desempeno = (puntos / puntos_maximos) * 100\n",
    "    return puntos, desempeno\n",
    "\n",
    "puntos, desempeno = calcula_puntos(goles_marcados, goles_recibidos)\n",
    "print(f\"La puntuación del equipo fue {puntos} y su rendimiento fue {desempeno}%\")\n",
    "\n",
    "\n"
   ]
  },
  {
   "cell_type": "code",
   "execution_count": null,
   "id": "1b437d16",
   "metadata": {},
   "outputs": [
    {
     "name": "stdout",
     "output_type": "stream",
     "text": [
      "Con base en los gastos definidos, un viaje de 3 días a Salvador desde Recife costaría 1657.142857142857 reales.\n"
     ]
    }
   ],
   "source": [
    "\"\"\"  \n",
    "Te han desafiado a crear un código que calcule los gastos de un viaje a una de las cuatro ciudades desde Recife, siendo ellas: Salvador, Fortaleza, Natal y Aracaju.\n",
    "\n",
    "El costo diario del hotel es de 150 reales en todas ellas y el consumo de gasolina en el viaje en coche es de 14 km/l, siendo que el precio de la gasolina es de 5 reales por litro. Los gastos con paseos y alimentación a realizar en cada una de ellas por día serían [200, 400, 250, 300], respectivamente.\n",
    "\n",
    "Sabiendo que las distancias entre Recife y cada una de las ciudades son aproximadamente [850, 800, 300, 550] km, crea tres funciones: la primera función calcula los gastos de hotel (gasto_hotel), la segunda calcula los gastos de gasolina (gasto_gasolina) y la tercera los gastos de paseo y alimentación (gasto_paseo).\n",
    "\n",
    "Para probar, simula un viaje de 3 días a Salvador desde Recife. Considera el viaje de ida y vuelta en coche.\n",
    "\n",
    "# Texto probablemente mostrado:\n",
    "# Con base en los gastos definidos, un viaje de [dias] días a [ciudad] desde \n",
    "# Recife costaría [gastos] reales.\n",
    "\n",
    "\n",
    "\"\"\"\n",
    "\n",
    "dias = int(input(\"Ingrese la cantidad de días que durará el viaje: \"))\n",
    "ciudad = input(\"Ingrese la ciudad a la que desea viajar (Salvador, Fortaleza, Natal, Aracaju): \")\n",
    "def gasto_hotel(dias):\n",
    "    return dias * 150\n",
    "def gasto_gasolina(distancia):\n",
    "    consumo = distancia / 14\n",
    "    return consumo * 5 * 2\n",
    "def gasto_paseo(ciudad, dias):\n",
    "    gastos_por_dia = {\n",
    "        \"Salvador\": 200,\n",
    "        \"Fortaleza\": 400,\n",
    "        \"Natal\": 250,\n",
    "        \"Aracaju\": 300\n",
    "    }\n",
    "    return gastos_por_dia[ciudad] * dias\n",
    "distancias = {\n",
    "    \"Salvador\": 850,\n",
    "    \"Fortaleza\": 800,\n",
    "    \"Natal\": 300,\n",
    "    \"Aracaju\": 550\n",
    "}\n",
    "gastos_totales = (gasto_hotel(dias) +\n",
    "                  gasto_gasolina(distancias[ciudad]) + gasto_paseo(ciudad, dias))\n",
    "print(f\"Con base en los gastos definidos, un viaje de {dias} días a {ciudad} desde Recife costaría {gastos_totales} reales.\")\n",
    "\n"
   ]
  },
  {
   "cell_type": "code",
   "execution_count": null,
   "id": "9eb4c9db",
   "metadata": {},
   "outputs": [
    {
     "name": "stdout",
     "output_type": "stream",
     "text": [
      "<class 'list'>\n",
      "<class 'list'>\n",
      "[<function <lambda> at 0x000001D54FE0EDE0>, ['Aprender', 'Python', 'aquí', 'en', 'Alura', 'es', 'muy', 'bueno']]\n"
     ]
    }
   ],
   "source": [
    "\"\"\"  \n",
    "Has comenzado una pasantía en una empresa que trabaja con procesamiento de lenguaje natural (NLP). Tu líder te solicitó que crees un fragmento de código que reciba una frase escrita por el usuario y filtre solo las palabras con un tamaño mayor o igual a 5, mostrándolas en una lista. Esta demanda se centra en el análisis del patrón de comportamiento de las personas al escribir palabras de esta cantidad de caracteres o más.\n",
    "\n",
    "Consejo: utiliza las funciones lambda y filter() para filtrar estas palabras. Recordando que la función integrada filter() recibe una función (en nuestro caso, una función lambda) y filtra un iterable según la función. Para tratar la frase, utiliza replace() para cambiar ',' '.', '!' y '?' por espacio.\n",
    "\n",
    "Utiliza la frase \"Aprender Python aquí en Alura es muy bueno\" para probar el código.\n",
    "\n",
    "\"\"\"\n",
    "frase = input(\"Ingrese una frase: \")\n",
    "frase_tratada = frase.replace(',', ' ').replace('.', ' ').replace('!', ' ').replace('?', ' ')\n",
    "palabras = frase_tratada.split()\n",
    "palabras_filtradas = list(filter(lambda x: len(x) >= 5, palabras))\n",
    "\n",
    "print(type(palabras))\n",
    "print(type(palabras_filtradas))\n",
    "print(palabras_filtradas)"
   ]
  },
  {
   "cell_type": "code",
   "execution_count": 1,
   "id": "7d5bc6f0",
   "metadata": {},
   "outputs": [
    {
     "data": {
      "text/plain": [
       "{'Anthony Silva': 9.1, 'Diana Carvajo': 9.0, 'Stephany Hernández': 10.0}"
      ]
     },
     "execution_count": 1,
     "metadata": {},
     "output_type": "execute_result"
    }
   ],
   "source": [
    "\"\"\"\n",
    "Recibimos una demanda de la institución educativa de nuestro proyecto que nos proporcionó una lista de 20 estudiantes y sus respectivos promedios finales. Aquí, necesitamos seleccionar estudiantes que tengan un promedio final mayor o igual a 9.0. Estos estudiantes serán premiados con una beca de estudios para el próximo año escolar.\n",
    "\n",
    "Para filtrar los datos, debemos generar un diccionario cuyas claves son los nombres y los valores son los promedios de los estudiantes seleccionados. Estos son los datos recibidos:\n",
    "\n",
    "nombres_estudiantes = [\"Enrique Montero\", \"Luna Pereira\", \"Anthony Silva\", \"Leticia Fernandez\", \"Juan González\", \"Maira Caldera\", \"Diana Carvajo\", \"Mariana Rosas\", \"Camila Fernandez\", \"Levi Alves\", \"Nicolás Rocha\", \"Amanda Navas\",  \"Lara Morales\", \"Leticia Olivera\", \"Lucas Navas\", \"Lara Arteaga\", \"Beatriz Martinez\", \"Victor Acevedo\", \"Stephany Hernández\", \"Gustavo Lima\"]\n",
    "\n",
    "medias_estudiantes = [5.4, 4.1, 9.1, 5.3, 6.9, 3.1, 9.0, 5.0, 8.2, 5.5,\n",
    "                    8.1, 7.4, 5.0, 3.7, 8.1, 6.2, 6.1, 5.6, 10.0, 8.2]\n",
    "¿Cuál de los códigos a continuación representa la forma correcta de generar el diccionario con los estudiantes seleccionados?\n",
    "\n",
    "Tip ⇒ Utiliza a forma:\n",
    "\n",
    "{expresion_llave: expresion_valor for item in iterable if condicion}\n",
    "\"\"\"\n",
    "nombres_estudiantes = [\"Enrique Montero\", \"Luna Pereira\", \"Anthony Silva\", \"Leticia Fernandez\", \"Juan González\", \"Maira Caldera\", \"Diana Carvajo\", \"Mariana Rosas\", \"Camila Fernandez\", \"Levi Alves\", \"Nicolás Rocha\", \"Amanda Navas\",  \"Lara Morales\", \"Leticia Olivera\", \"Lucas Navas\", \"Lara Arteaga\", \"Beatriz Martinez\", \"Victor Acevedo\", \"Stephany Hernández\", \"Gustavo Lima\"]\n",
    "\n",
    "medias_estudiantes = [5.4, 4.1, 9.1, 5.3, 6.9, 3.1, 9.0, 5.0, 8.2, 5.5,\n",
    "                    8.1, 7.4, 5.0, 3.7, 8.1, 6.2, 6.1, 5.6, 10.0, 8.2]\n",
    "becados = {nombre: media for nombre, media in zip(nombres_estudiantes, medias_estudiantes) if media >= 9.0}\n",
    "becados\n",
    "\n",
    "# Salida: {'Anthony Silva': 9.1, 'Stephany Hernández': 10.0}"
   ]
  },
  {
   "cell_type": "code",
   "execution_count": 2,
   "id": "2b6482e7",
   "metadata": {},
   "outputs": [
    {
     "data": {
      "text/plain": [
       "[24, 10, 16]"
      ]
     },
     "execution_count": 2,
     "metadata": {},
     "output_type": "execute_result"
    }
   ],
   "source": [
    "#Crea un código para imprimir la suma de los elementos de cada una de las listas contenidas en la siguiente lista:\n",
    "\n",
    "lista_de_listas = [[4, 6, 5, 9], [1, 0, 7, 2], [3, 4, 1, 8]]\n",
    "\n",
    "lista_sumas = [sum(sublista) for sublista in lista_de_listas]\n",
    "lista_sumas"
   ]
  },
  {
   "cell_type": "code",
   "execution_count": 4,
   "id": "f13fa571",
   "metadata": {},
   "outputs": [
    {
     "data": {
      "text/plain": [
       "[81, 67, 83]"
      ]
     },
     "execution_count": 4,
     "metadata": {},
     "output_type": "execute_result"
    }
   ],
   "source": [
    "#Crea un código para generar una lista que almacene el tercer elemento de cada tupla contenida en la siguiente lista de tuplas:\n",
    "\n",
    "lista_de_tuplas = [('Pedro', 1.74, 81), ('Júlia', 1.65, 67), ('Otávio', 1.81, 83)]\n",
    "tercer_elemento = [tupla[2] for tupla in lista_de_tuplas]\n",
    "tercer_elemento"
   ]
  },
  {
   "cell_type": "code",
   "execution_count": null,
   "id": "246018b4",
   "metadata": {},
   "outputs": [
    {
     "name": "stdout",
     "output_type": "stream",
     "text": [
      "[(0, 'Pedro'), (1, 'Júlia'), (2, 'Otávio'), (3, 'Eduardo')]\n"
     ]
    }
   ],
   "source": [
    "#A partir de la lista: lista = ['Pedro', 'Júlia', 'Otávio', 'Eduardo'], crea un código para generar una lista de tuplas en la que cada tupla tenga el primer elemento como la posición del nombre en la lista original y el segundo elemento siendo el propio nombre.\n",
    "lista = ['Pedro', 'Júlia', 'Otávio', 'Eduardo']\n",
    "\"\"\"\n",
    "solucion con comprhesion list \n",
    "lista_tuplas =[ (index , nombre) for index, nombre in enumerate(lista)]\n",
    "lista_tuplas\n",
    "\"\"\"\n",
    "lista_de_tuplas = []\n",
    "for i in range(len(lista)):\n",
    "    lista_de_tuplas.append((i, lista[i]))\n",
    "print(lista_de_tuplas)"
   ]
  },
  {
   "cell_type": "code",
   "execution_count": 8,
   "id": "2a7fe177",
   "metadata": {},
   "outputs": [
    {
     "data": {
      "text/plain": [
       "[1700, 1400, 1900]"
      ]
     },
     "execution_count": 8,
     "metadata": {},
     "output_type": "execute_result"
    }
   ],
   "source": [
    "\"\"\"  \n",
    "Crea una lista usando la comprensión de listas (list comprehension) que almacene solo el valor numérico de cada tupla en caso de que el primer elemento sea 'Apartamento', a partir de la siguiente lista de tuplas:\n",
    "\n",
    "alquiler = [('Apartamento', 1700), ('Apartamento', 1400), ('Casa', 2150), ('Apartamento', 1900), ('Casa', 1100)]\n",
    "\n",
    "\n",
    "\"\"\"\n",
    "alquiler = [('Apartamento', 1700), ('Apartamento', 1400), ('Casa', 2150), ('Apartamento', 1900), ('Casa', 1100)]\n",
    "\n",
    "apartamentos = [tupla[1] for tupla in alquiler if tupla[0] == 'Apartamento']\n",
    "apartamentos"
   ]
  },
  {
   "cell_type": "code",
   "execution_count": 12,
   "id": "14749f4b",
   "metadata": {},
   "outputs": [
    {
     "data": {
      "text/plain": [
       "{'Jan': 860,\n",
       " 'Fev': 490,\n",
       " 'Mar': 1010,\n",
       " 'Abr': 780,\n",
       " 'Mai': 900,\n",
       " 'Jun': 630,\n",
       " 'Jul': 590,\n",
       " 'Ago': 770,\n",
       " 'Set': 620,\n",
       " 'Out': 560,\n",
       " 'Nov': 840,\n",
       " 'Dez': 360}"
      ]
     },
     "execution_count": 12,
     "metadata": {},
     "output_type": "execute_result"
    }
   ],
   "source": [
    "\"\"\"\n",
    "Crea un diccionario usando la comprensión de diccionarios (dict comprehension) en el que las claves estén en la lista meses = ['Jan', 'Fev', 'Mar', 'Abr', 'Mai', 'Jun', 'Jul', 'Ago', 'Set', 'Out', 'Nov', 'Dez'] y los valores estén en gasto = [860, 490, 1010, 780, 900, 630, 590, 770, 620, 560, 840, 360].\n",
    "\n",
    "\"\"\"\n",
    "meses = ['Jan', 'Fev', 'Mar', 'Abr', 'Mai', 'Jun', 'Jul', 'Ago', 'Set', 'Out', 'Nov', 'Dez']\n",
    "gasto = [860, 490, 1010, 780, 900, 630, 590, 770, 620, 560, 840, 360]\n",
    "\n",
    "presupuesto = {mes: gasto for mes, gasto in zip(meses, gasto)}\n",
    "presupuesto\n"
   ]
  },
  {
   "cell_type": "code",
   "execution_count": 16,
   "id": "cc1cfdf9",
   "metadata": {},
   "outputs": [
    {
     "data": {
      "text/plain": [
       "[('2022', 8883), ('2022', 7688), ('2022', 9544), ('2022', 8190)]"
      ]
     },
     "execution_count": 16,
     "metadata": {},
     "output_type": "execute_result"
    }
   ],
   "source": [
    "\"\"\" \n",
    " Una tienda tiene una base de datos con la información de venta de cada representante y de cada año y necesita filtrar solo los datos del año 2022 con ventas mayores a 6000. La tienda proporcionó una muestra con solo las columnas de los años y los valores de venta para que puedas ayudar a realizar la filtración de los datos a través de un código:\n",
    "\n",
    "ventas = [('2023', 4093), ('2021', 4320), ('2021', 5959), ('2022', 8883), ('2023', 9859), ('2022', 5141), ('2022', 7688), ('2022', 9544), ('2023', 4794), ('2021', 7178), ('2022', 3030), ('2021', 7471), ('2022', 4226), ('2022', 8190), ('2021', 9680), ('2022', 5616)]\n",
    "\"\"\"\n",
    "ventas = [('2023', 4093), ('2021', 4320), ('2021', 5959), ('2022', 8883), ('2023', 9859), ('2022', 5141), ('2022', 7688), ('2022', 9544), ('2023', 4794), ('2021', 7178), ('2022', 3030), ('2021', 7471), ('2022', 4226), ('2022', 8190), ('2021', 9680), ('2022', 5616)]\n",
    "ventas_filtradas = [venta for venta in ventas if venta[0]=='2022' and venta[1]>6000]\n",
    "ventas_filtradas"
   ]
  },
  {
   "cell_type": "code",
   "execution_count": 19,
   "id": "9f1c197b",
   "metadata": {},
   "outputs": [
    {
     "data": {
      "text/plain": [
       "[('Diabetes', 129),\n",
       " ('Normal', 82),\n",
       " ('Hipoglicemia', 60),\n",
       " ('Normal', 97),\n",
       " ('Alterada', 101),\n",
       " ('Hipoglicemia', 65),\n",
       " ('Hipoglicemia', 62),\n",
       " ('Diabetes', 167),\n",
       " ('Normal', 87),\n",
       " ('Hipoglicemia', 53),\n",
       " ('Hipoglicemia', 58),\n",
       " ('Normal', 92),\n",
       " ('Hipoglicemia', 66),\n",
       " ('Alterada', 120),\n",
       " ('Alterada', 109),\n",
       " ('Hipoglicemia', 62),\n",
       " ('Normal', 86),\n",
       " ('Normal', 96),\n",
       " ('Alterada', 103),\n",
       " ('Normal', 88),\n",
       " ('Diabetes', 155),\n",
       " ('Hipoglicemia', 52),\n",
       " ('Normal', 89),\n",
       " ('Normal', 73)]"
      ]
     },
     "execution_count": 19,
     "metadata": {},
     "output_type": "execute_result"
    }
   ],
   "source": [
    "\"\"\"  \n",
    "Una clínica analiza datos de pacientes y almacena el valor numérico de la glucosa en una base de datos y le gustaría etiquetar los datos de la siguiente manera:\n",
    "\n",
    "Glucosa igual o inferior a 70: 'Hipoglicemia'\n",
    "Glucosa entre 70 y 99: 'Normal'\n",
    "Glucosa entre 100 y 125: 'Alterada'\n",
    "Glucosa superior a 125: 'Diabetes'\n",
    "La clínica proporcionó parte de los valores y tu tarea es crear una lista de tuplas usando la comprensión de listas que contenga la etiqueta y el valor de la glucemia en cada tupla.\n",
    "\n",
    "glicemia = [129, 82, 60, 97, 101, 65, 62, 167, 87, 53, 58, 92, 66, 120, 109, 62, 86, 96, 103, 88, 155, 52, 89, 73]\n",
    "\"\"\"\n",
    "\n",
    "glicemia = [129, 82, 60, 97, 101, 65, 62, 167, 87, 53, 58, 92, 66, 120, 109, 62, 86, 96, 103, 88, 155, 52, 89, 73]\n",
    "\n",
    "\n",
    "etiquetas_glicemia = [('Hipoglicemia' if valor <= 70 else 'Normal' if 70 < valor <= 99 else 'Alterada' if 100 <= valor <= 125 else 'Diabetes', valor) for valor in glicemia]\n",
    "etiquetas_glicemia\n"
   ]
  },
  {
   "cell_type": "code",
   "execution_count": 25,
   "id": "58433fdf",
   "metadata": {},
   "outputs": [
    {
     "data": {
      "text/plain": [
       "[('id', 'cantidad', 'precio', 'total'),\n",
       " (0, 15, 93.0, 1395.0),\n",
       " (1, 12, 102.0, 1224.0),\n",
       " (2, 1, 18.0, 18.0),\n",
       " (3, 15, 41.0, 615.0),\n",
       " (4, 2, 122.0, 244.0),\n",
       " (5, 11, 14.0, 154.0),\n",
       " (6, 2, 71.0, 142.0),\n",
       " (7, 12, 48.0, 576.0),\n",
       " (8, 2, 14.0, 28.0),\n",
       " (9, 4, 144.0, 576.0)]"
      ]
     },
     "execution_count": 25,
     "metadata": {},
     "output_type": "execute_result"
    }
   ],
   "source": [
    "#Un comercio electrónico tiene información de id de venta, cantidad vendida y precio del producto divididos en las siguientes listas:\n",
    "\n",
    "id = [0, 1, 2, 3, 4, 5, 6, 7, 8, 9]\n",
    "cantidad = [15, 12, 1, 15, 2, 11, 2, 12, 2, 4]\n",
    "precio = [93.0, 102.0, 18.0, 41.0, 122.0, 14.0, 71.0, 48.0, 14.0, 144.0]\n",
    "\n",
    "#La plataforma necesita estructurar estos datos en una tabla que contenga el valor total de la venta, que se obtiene multiplicando la cantidad por el precio unitario. Además, la tabla debe contener un encabezado indicando las columnas: 'id', 'cantidad', 'precio' y 'total'.\n",
    "#Crea una lista de tuplas en la que cada tupla tenga id, cantidad, precio y valor total, siendo la primera tupla el encabezado de la tabla.\n",
    "tabla_ventas = [('id', 'cantidad', 'precio', 'total')] + [(i, c, p, c * p) for i, c, p in zip(id, cantidad, precio)]\n",
    "tabla_ventas"
   ]
  },
  {
   "cell_type": "code",
   "execution_count": 27,
   "id": "fb992cda",
   "metadata": {},
   "outputs": [
    {
     "data": {
      "text/plain": [
       "{'VER': 2, 'PUE': 7, 'OAX': 6, 'CMX': 8}"
      ]
     },
     "execution_count": 27,
     "metadata": {},
     "output_type": "execute_result"
    }
   ],
   "source": [
    "\"\"\"   \n",
    "Una empresa tiene sucursales distribuidas en los estados de la región Sudeste de Brasil.\n",
    "En una de las tablas de registro de las sucursales, hay una columna que contiene la información de a qué estado pertenece: \n",
    "estados =['CMX', 'OAX', 'PUE', 'PUE', 'CMX', 'PUE', 'OAX', 'OAX', 'OAX', 'CMX', 'CMX', 'PUE', 'OAX', 'CMX', 'VER', 'PUE', 'VER', 'CMX', 'PUE', 'CMX', 'OAX', 'CMX', 'PUE'].\n",
    "\n",
    "La empresa siempre está abriendo nuevas sucursales, por lo que la tabla está constantemente recibiendo nuevos registros y al gerente le gustaría tener la información actualizada de la cantidad de sucursales en cada estado.\n",
    "\n",
    "A partir de la columna con la información de los estados\n",
    "crea un diccionario utilizando la comprensión de diccionarios (dict comprehension) con la clave siendo el nombre de un estado y el valor siendo la cantidad de veces que aparece el estado en la lista.\n",
    "\n",
    "Consejo: Puedes hacer un paso intermedio para generar una lista de listas en la que cada una de las listas tenga el nombre de solo un estado con valores repetidos.\n",
    "\n",
    "\n",
    "\"\"\"\n",
    "estados =['CMX', 'OAX', 'PUE', 'PUE', 'CMX', 'PUE', 'OAX', 'OAX', 'OAX', 'CMX', 'CMX', 'PUE', 'OAX', 'CMX', 'VER', 'PUE', 'VER', 'CMX', 'PUE', 'CMX', 'OAX', 'CMX', 'PUE']\n",
    "\n",
    "cant_estados= {estado: estados.count(estado) for estado in set(estados)}\n",
    "\n",
    "cant_estados\n"
   ]
  },
  {
   "cell_type": "code",
   "execution_count": 32,
   "id": "c301cde1",
   "metadata": {},
   "outputs": [
    {
     "name": "stdout",
     "output_type": "stream",
     "text": [
      "{'VER': [13, 9], 'PUE': [9, 6, 4, 8, 5, 10, 12], 'OAX': [8, 9, 7, 12, 8, 14], 'CMX': [16, 10, 7, 11, 9, 12, 7, 10]}\n",
      "{'VER': 22, 'PUE': 54, 'OAX': 58, 'CMX': 82}\n"
     ]
    }
   ],
   "source": [
    "\"\"\"  \n",
    "En esa misma tabla de registro de sucursales, hay una columna con la información de la cantidad de personas empleadas y el gerente quisiera tener un agrupamiento de la suma de esas personas para cada estado. Las informaciones contenidas en la tabla son:\n",
    "\n",
    " empleados = [('CMX', 16), ('OAX', 8), ('PUE', 9), ('PUE', 6), ('CMX', 10), ('PUE', 4), ('OAX',9),  ('OAX', 7), ('OAX', 12), ('CMX', 7), ('CMX', 11), ('PUE',8), ('OAX',8), ('CMX',9), ('VER', 13), ('PUE', 5),  ('VER', 9), ('CMX', 12), ('PUE', 10), ('CMX', 7), ('OAX', 14), ('CMX', 10), ('PUE', 12)]\n",
    "\n",
    "A partir de la lista de tuplas, crea un diccionario en el que las claves son los nombres de los estados únicos y los valores son las listas con el número de empleados referentes al estado. También crea un diccionario en el que las claves son los nombres de los estados y los valores son la suma de empleados por estado.\n",
    "\n",
    "\n",
    "\"\"\"\n",
    "empleados = [('CMX', 16), ('OAX', 8), ('PUE', 9), ('PUE', 6), ('CMX', 10), ('PUE', 4), ('OAX',9),  ('OAX', 7), ('OAX', 12), ('CMX', 7), ('CMX', 11), ('PUE',8), ('OAX',8), ('CMX',9), ('VER', 13), ('PUE', 5),  ('VER', 9), ('CMX', 12), ('PUE', 10), ('CMX', 7), ('OAX', 14), ('CMX', 10), ('PUE', 12)]\n",
    "\n",
    "dict_empleados = {estado: [empleado[1] for empleado in empleados if empleado[0] == estado] for estado in set([e[0] for e in empleados])}\n",
    "print(dict_empleados)\n",
    "suma_empleados = {estado: sum([empleado[1] for empleado in empleados if empleado[0] == estado]) for estado in set([estado[0] for estado in empleados])}\n",
    "print(suma_empleados)\n"
   ]
  },
  {
   "cell_type": "code",
   "execution_count": null,
   "id": "6b6da2bc",
   "metadata": {},
   "outputs": [
    {
     "name": "stdout",
     "output_type": "stream",
     "text": [
      "<class 'TypeError'> Erro: 'int' object is not subscriptable\n",
      "Proceso concluído!\n"
     ]
    }
   ],
   "source": [
    "empleados = {'José': 2000, 'Ana': 2200, 'Juan': 2500, 'Maria': 3800}\n"
   ]
  },
  {
   "cell_type": "code",
   "execution_count": null,
   "id": "888e7ce8",
   "metadata": {},
   "outputs": [],
   "source": []
  }
 ],
 "metadata": {
  "kernelspec": {
   "display_name": "Python 3",
   "language": "python",
   "name": "python3"
  },
  "language_info": {
   "codemirror_mode": {
    "name": "ipython",
    "version": 3
   },
   "file_extension": ".py",
   "mimetype": "text/x-python",
   "name": "python",
   "nbconvert_exporter": "python",
   "pygments_lexer": "ipython3",
   "version": "3.13.2"
  }
 },
 "nbformat": 4,
 "nbformat_minor": 5
}
